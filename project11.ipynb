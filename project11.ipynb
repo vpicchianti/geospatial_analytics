{
 "cells": [
  {
   "cell_type": "markdown",
   "metadata": {},
   "source": [
    "# Project 11 : Mobility Hubs in 15 minutes"
   ]
  },
  {
   "cell_type": "markdown",
   "metadata": {},
   "source": [
    "The **15-Minute City** rides on the concept of **“chrono-urbanism”**, which outlines that the quality of urban life is inversely proportional to the amount of time invested in transportation, more so through the use of automobiles. This concept originated from the first author, Carlos Moreno, who advocates for an urban set-up where locals are able to **access all of their basic essentials at distances that would not take them more than 15 min by foot or by bicycle**. <br>\n",
    "For the present “15-minute” concept, Moreno supports that residents will be able to enjoy a higher quality of life where they will\n",
    "be able to effectively fulfil **six essential urban social functions** to sustain a decent urban life.\n",
    "Those include: \n",
    "- living, \n",
    "- working, \n",
    "- commerce, \n",
    "- healthcare, \n",
    "- education and \n",
    "- entertainment.\n",
    "\n",
    "Four main dimensions:  \n",
    "- **density** (people per kilometer square): optimal density that ultimately allows sustainability pursuits to be achieved on the economic, social and environmental frontiers. \n",
    "- **proximity** (both spatial and temporal): within the 15-min quickly accessible radial nodes, residents in a given neighborhood can readily access basic services. \n",
    "- **diversity**:  twofold: (i) the need for mixed use neighborhoods which are primary in providing a healthy mix of residential, commercial and entertainment components and (ii) diversity in culture and people.\n",
    "- **digitalization**:  relevant in ensuring the actualization of the three other dimensions. <br><br>\n",
    "\n",
    "The aim of this project is to propose a significant deployment of the mobility hubs in Louvain so as to ensure a maximum\n",
    "coverage of the 15-minute measures. \n"
   ]
  },
  {
   "cell_type": "code",
   "execution_count": null,
   "metadata": {},
   "outputs": [],
   "source": []
  }
 ],
 "metadata": {
  "kernelspec": {
   "display_name": "Python 3",
   "language": "python",
   "name": "python3"
  },
  "language_info": {
   "name": "python",
   "version": "3.9.18"
  }
 },
 "nbformat": 4,
 "nbformat_minor": 2
}
